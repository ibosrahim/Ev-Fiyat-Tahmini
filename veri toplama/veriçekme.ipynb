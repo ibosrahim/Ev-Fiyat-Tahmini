{
 "cells": [
  {
   "cell_type": "code",
   "execution_count": 1,
   "id": "bb3bafb2",
   "metadata": {},
   "outputs": [],
   "source": [
    "import requests\n",
    "from bs4 import BeautifulSoup as bs\n",
    "from urllib.parse import urljoin\n",
    "import pandas as pd\n",
    "import re"
   ]
  },
  {
   "cell_type": "code",
   "execution_count": 5,
   "id": "87095020",
   "metadata": {},
   "outputs": [],
   "source": [
    "# Boş bir DataFrame oluşturun\n",
    "ilanlar_df = pd.DataFrame(columns=['Oda Sayısı', 'Metrekare', 'Bina Yaşı', 'Daire Katı', 'Fiyat'])\n",
    "\n",
    "for i in range(1, 35):\n",
    "    adres = f\"https://www.hepsiemlak.com/mezitli-satilik/daire?page={i}\"\n",
    "    baslik = {'User-Agent':'Mozilla/5.0 (Windows NT 10.0; Win64; x64) AppleWebKit/537.36 (KHTML, like Gecko) Chrome/120.0.0.0 Safari/537.36'}\n",
    "    sayfa = requests.get(adres, headers=baslik)\n",
    "    soup = bs(sayfa.content, features=\"lxml\")\n",
    "\n",
    "    # İlanları içeren div elementini bulma\n",
    "    ilanlar_div = soup.find('div', {'class': 'listView'})\n",
    "\n",
    "    # İlanları içeren div elementinin içindeki ilanları bulma\n",
    "    ilan_listesi = ilanlar_div.find_all('li', {'class': 'listing-item'})\n",
    "\n",
    "    # Her bir ilanın detaylarına erişme\n",
    "    for ilan in ilan_listesi:\n",
    "        ilan_odasayisi = ilan.find('span', {'class': 'celly houseRoomCount'}).get_text(strip=True)\n",
    "        ilan_metrekare = ilan.find('span', {'class': 'celly squareMeter list-view-size'}).get_text(strip=True)\n",
    "        ilan_binayasi = ilan.find('span', {'class': 'celly buildingAge'}).get_text(strip=True)\n",
    "        ilan_dairekat = ilan.find('span', {'class': 'celly floortype'}).get_text(strip=True)\n",
    "        ilan_fiyati = ilan.find('span', {'class': 'list-view-price'}).get_text(strip=True)\n",
    "        ilan_fiyati = ilan.find('span', {'class': 'list-view-price'}).get_text(strip=True)\n",
    "    \n",
    "\n",
    "        # DataFrame'e yeni satır ekleyin\n",
    "        ilanlar_df = pd.concat([ilanlar_df, pd.DataFrame({'Oda Sayısı': [ilan_odasayisi],\n",
    "                                                          'Metrekare': [ilan_metrekare],\n",
    "                                                          'Bina Yaşı': [ilan_binayasi],\n",
    "                                                          'Daire Katı': [ilan_dairekat],\n",
    "                                                          'Fiyat': [ilan_fiyati]})], ignore_index=True)\n",
    "\n",
    "# DataFrame'i Excel dosyasına kaydet\n",
    "ilanlar_df.to_excel('evilanlari.xlsx', index=False)\n"
   ]
  },
  {
   "cell_type": "code",
   "execution_count": null,
   "id": "320b7b3e",
   "metadata": {},
   "outputs": [],
   "source": []
  },
  {
   "cell_type": "code",
   "execution_count": null,
   "id": "3670c599",
   "metadata": {},
   "outputs": [],
   "source": []
  }
 ],
 "metadata": {
  "kernelspec": {
   "display_name": "Python 3 (ipykernel)",
   "language": "python",
   "name": "python3"
  },
  "language_info": {
   "codemirror_mode": {
    "name": "ipython",
    "version": 3
   },
   "file_extension": ".py",
   "mimetype": "text/x-python",
   "name": "python",
   "nbconvert_exporter": "python",
   "pygments_lexer": "ipython3",
   "version": "3.11.5"
  }
 },
 "nbformat": 4,
 "nbformat_minor": 5
}
